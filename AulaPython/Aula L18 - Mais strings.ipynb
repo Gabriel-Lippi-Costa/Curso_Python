{
  "cells": [
    {
      "cell_type": "markdown",
      "metadata": {
        "id": "eukAJhnq3T1T"
      },
      "source": [
        "#**TTI103 - Lógica de Programação**\n",
        "\n",
        "#**Aula L18 - Mais strings**"
      ]
    },
    {
      "cell_type": "markdown",
      "metadata": {
        "id": "57mESXyENDjL"
      },
      "source": [
        "##**Exercício 01 - Manipulações simples com strings**\n",
        "\n",
        "**a)** Construa um programa em Python que troque todas as ocorrências de uma letra `L1` pela letra `L2` em uma *string* `txt`. A *string* `txt`e as letras `L1` e `L2` devem ser fornecidas pelo usuário."
      ]
    },
    {
      "cell_type": "code",
      "execution_count": 6,
      "metadata": {
        "id": "AOLneMzYNY77"
      },
      "outputs": [
        {
          "name": "stdout",
          "output_type": "stream",
          "text": [
            "bnb\n"
          ]
        }
      ],
      "source": [
        "# Exercício 01a\n",
        "txt = input(\"Digite uma string:\")\n",
        "L1 = input(\"Digite a letra para substituir: \")\n",
        "L2 = input(\"Digite a letra subistituta: \")\n",
        "    \n",
        "print(txt.replace(L1, L2))"
      ]
    },
    {
      "cell_type": "markdown",
      "metadata": {
        "id": "G-pgO4j7Ndez"
      },
      "source": [
        "**b)** Escreva um programa que leia duas palavras e diga qual deles vem primeiro na ordem\n",
        "alfabética.\n",
        "\n",
        "*Dica:* `'a'` é menor do que `'b'`."
      ]
    },
    {
      "cell_type": "code",
      "execution_count": 8,
      "metadata": {
        "id": "ki54cf-bN67b"
      },
      "outputs": [
        {
          "name": "stdout",
          "output_type": "stream",
          "text": [
            "a vem primeiro\n"
          ]
        }
      ],
      "source": [
        "# Exercício 01b\n",
        "palavra_um = input(\"Digite uma palavra: \")\n",
        "palavra_dois = input(\"Digite outra palavra: \")\n",
        "\n",
        "primeira_letra_primeira_palavra = palavra_um[0]\n",
        "primeira_letra_segunda_palavra = palavra_dois[0]\n",
        "\n",
        "if primeira_letra_primeira_palavra < primeira_letra_segunda_palavra:\n",
        "    print(f\"{primeira_letra_primeira_palavra} vem primeiro\")\n",
        "else:\n",
        "    print(f\"{primeira_letra_segunda_palavra} vem primeiro\")"
      ]
    },
    {
      "cell_type": "markdown",
      "metadata": {
        "id": "_N5TtBNNZkHY"
      },
      "source": [
        "**c)** Escreva um programa que leia vários números reais em uma mesma linha, e imprima a soma."
      ]
    },
    {
      "cell_type": "code",
      "execution_count": 11,
      "metadata": {
        "id": "lGwW5F_cZwa_"
      },
      "outputs": [
        {
          "name": "stdout",
          "output_type": "stream",
          "text": [
            "10009211.0\n"
          ]
        }
      ],
      "source": [
        "# Exercício 01c\n",
        "linha_com_numeros = input(\"Digite uma linha com vários números: \").split()\n",
        "\n",
        "lista_numeros = [float(num) for num in linha_com_numeros]\n",
        "\n",
        "\n",
        "\n",
        "print(sum(lista_numeros))\n",
        "\n",
        "\n"
      ]
    },
    {
      "cell_type": "markdown",
      "metadata": {
        "id": "xZx6J_JQaxVB"
      },
      "source": [
        "**d)** Escreva a função `insere_se_novo` de acordo com a *string* de ajuda fornecida:"
      ]
    },
    {
      "cell_type": "code",
      "execution_count": 18,
      "metadata": {
        "id": "rpxniP8acmmp"
      },
      "outputs": [
        {
          "name": "stdout",
          "output_type": "stream",
          "text": [
            "O seu nome não está na lista.\n",
            "Posição 3\n"
          ]
        }
      ],
      "source": [
        "def insereSeNovo (nome, lista_com_nomes):\n",
        "  if nome in lista_com_nomes:\n",
        "    print(\"O seu nome está na lista.\")\n",
        "    print(f\"Posição {lista_com_nomes[nome]}\")\n",
        "  else:\n",
        "    print(\"O seu nome não está na lista.\")\n",
        "    lista_com_nomes.append(nome)\n",
        "    print(f\"Posição {lista_com_nomes.index(nome)}\")\n",
        "\n",
        "lista_com_nomes = [\"Gabriel\", \"Pedro\", \"Carlos\"]\n",
        "nome = input(\"Digite um nome: \")\n",
        "\n",
        "insereSeNovo(nome, lista_com_nomes)\n"
      ]
    },
    {
      "cell_type": "markdown",
      "metadata": {
        "id": "cgRU7VIzcp2Z"
      },
      "source": [
        "Essa função devolve a posição em que o *string* `x` ocorre em lista ou, caso `x` não estiver na lista, insere `x` no final da lista e devolve o índice dessa posição. O código a seguir deve ser usado para testar sua função:"
      ]
    },
    {
      "cell_type": "code",
      "execution_count": 19,
      "metadata": {
        "id": "Ja2xcw3Yc_ao"
      },
      "outputs": [
        {
          "name": "stdout",
          "output_type": "stream",
          "text": [
            "O seu nome está na lista.\n"
          ]
        },
        {
          "ename": "TypeError",
          "evalue": "list indices must be integers or slices, not str",
          "output_type": "error",
          "traceback": [
            "\u001b[31m---------------------------------------------------------------------------\u001b[39m",
            "\u001b[31mTypeError\u001b[39m                                 Traceback (most recent call last)",
            "\u001b[36mCell\u001b[39m\u001b[36m \u001b[39m\u001b[32mIn[19]\u001b[39m\u001b[32m, line 3\u001b[39m\n\u001b[32m      1\u001b[39m \u001b[38;5;66;03m# Codigo de teste\u001b[39;00m\n\u001b[32m      2\u001b[39m lista = [\u001b[33m'\u001b[39m\u001b[33mRonaldo\u001b[39m\u001b[33m'\u001b[39m, \u001b[33m'\u001b[39m\u001b[33mRomário\u001b[39m\u001b[33m'\u001b[39m, \u001b[33m'\u001b[39m\u001b[33mRivelino\u001b[39m\u001b[33m'\u001b[39m]\n\u001b[32m----> \u001b[39m\u001b[32m3\u001b[39m pos = \u001b[43minsereSeNovo\u001b[49m\u001b[43m(\u001b[49m\u001b[33;43m'\u001b[39;49m\u001b[33;43mRomário\u001b[39;49m\u001b[33;43m'\u001b[39;49m\u001b[43m,\u001b[49m\u001b[43m \u001b[49m\u001b[43mlista\u001b[49m\u001b[43m)\u001b[49m\n\u001b[32m      4\u001b[39m pos = insereSeNovo(\u001b[33m'\u001b[39m\u001b[33mPelé\u001b[39m\u001b[33m'\u001b[39m, lista)\n\u001b[32m      5\u001b[39m pos = insereSeNovo(\u001b[33m'\u001b[39m\u001b[33mRivelino\u001b[39m\u001b[33m'\u001b[39m, lista)\n",
            "\u001b[36mCell\u001b[39m\u001b[36m \u001b[39m\u001b[32mIn[18]\u001b[39m\u001b[32m, line 4\u001b[39m, in \u001b[36minsereSeNovo\u001b[39m\u001b[34m(nome, lista_com_nomes)\u001b[39m\n\u001b[32m      2\u001b[39m \u001b[38;5;28;01mif\u001b[39;00m nome \u001b[38;5;129;01min\u001b[39;00m lista_com_nomes:\n\u001b[32m      3\u001b[39m   \u001b[38;5;28mprint\u001b[39m(\u001b[33m\"\u001b[39m\u001b[33mO seu nome está na lista.\u001b[39m\u001b[33m\"\u001b[39m)\n\u001b[32m----> \u001b[39m\u001b[32m4\u001b[39m   \u001b[38;5;28mprint\u001b[39m(\u001b[33mf\u001b[39m\u001b[33m\"\u001b[39m\u001b[33mPosição \u001b[39m\u001b[38;5;132;01m{\u001b[39;00m\u001b[43mlista_com_nomes\u001b[49m\u001b[43m[\u001b[49m\u001b[43mnome\u001b[49m\u001b[43m]\u001b[49m\u001b[38;5;132;01m}\u001b[39;00m\u001b[33m\"\u001b[39m)\n\u001b[32m      5\u001b[39m \u001b[38;5;28;01melse\u001b[39;00m:\n\u001b[32m      6\u001b[39m   \u001b[38;5;28mprint\u001b[39m(\u001b[33m\"\u001b[39m\u001b[33mO seu nome não está na lista.\u001b[39m\u001b[33m\"\u001b[39m)\n",
            "\u001b[31mTypeError\u001b[39m: list indices must be integers or slices, not str"
          ]
        }
      ],
      "source": [
        "# Codigo de teste\n",
        "lista = ['Ronaldo', 'Romário', 'Rivelino']\n",
        "pos = insereSeNovo('Romário', lista)\n",
        "pos = insereSeNovo('Pelé', lista)\n",
        "pos = insereSeNovo('Rivelino', lista)\n",
        "print(f'{lista}, que deve ser Ronaldo, Romário, Rivelino, Pelé.')"
      ]
    },
    {
      "cell_type": "markdown",
      "metadata": {
        "id": "ybjQmQpq8qL3"
      },
      "source": [
        "**e)** Elabore um programa modular que leia o nome do usuário e o imprima na vertical, em forma de escada, usando apenas letras maiúsculas. Use a função `imprimir_escada`.\n",
        "\n",
        "Exemplo de uso:\n",
        "\n",
        "Nome = Vanessa\n",
        "\n",
        "Resultado gerado pelo programa:\n",
        "\n",
        "V\n",
        "\n",
        "VA\n",
        "\n",
        "VAN\n",
        "\n",
        "VANE\n",
        "\n",
        "VANES\n",
        "\n",
        "VANESS\n",
        "\n",
        "VANESSA"
      ]
    },
    {
      "cell_type": "code",
      "execution_count": 27,
      "metadata": {
        "id": "S_oocSDC8rSx"
      },
      "outputs": [],
      "source": [
        "def imprimir_escada(nome):\n",
        " texto = \"\"\n",
        " for i in nome:\n",
        "    texto += i\n",
        "    print(texto)\n",
        "  \n",
        "\n",
        "nome = input(\"Digite o seu nome: \")\n",
        "imprimir_escada(nome)"
      ]
    },
    {
      "cell_type": "markdown",
      "metadata": {
        "id": "WaIyvXLa38Xo"
      },
      "source": [
        "##**Exercício 02 – Senha da biblioteca**\n",
        "\n",
        "Uma biblioteca distribui um cartão magnético para que os alunos possam frequentá-la. A senha inicial, enviada pelo correio, é gerada automaticamente a partir da data de nascimento do aluno ('dd/mm/aaaa') do seguinte modo:\n",
        "\n",
        "`mm + '$' + dd(invertido) + '#' + dd + '!' + mm(invertido) + '\\' + aaaa`\n",
        "\n",
        "Assim, se a data de nascimento é 25/10/1995, a senha será:\n",
        "\n",
        "`10$52#25!01\\1995`\n",
        "\n",
        "Escreva um programa modular que solicite ao usuário a inserção da data de nascimento no formato dd/mm/aaaa e retorne sua senha de acordo com as regras da biblioteca."
      ]
    },
    {
      "cell_type": "code",
      "execution_count": null,
      "metadata": {
        "id": "T6hD6HtbhvmY"
      },
      "outputs": [],
      "source": [
        "data_nascimento = input(\"Digite a sua data de nascimento: \")\n",
        "\n"
      ]
    },
    {
      "cell_type": "markdown",
      "metadata": {
        "id": "SMMs32Hih5VO"
      },
      "source": [
        "##**Exercício 03 - DNA**\n",
        "\n",
        "Construa uma função `DNA_complementar` que recebe uma *string* que representa\n",
        "uma cadeia de DNA e gera a cadeia complementar. A\n",
        "entrada e saída de dados deve ser feita pelo programa principal.\n",
        "\n",
        "Lembrando: O DNA (Ácido Desoxirribonucléico) é composto por milhões de nucleotídeos ligados uns aos outros. Separadamente, os nucleotídeos são bastante simples, consistindo de três partes diferentes:\n",
        "\n",
        "* Base nitrogenada (Adenina (A), Timina (T), Guanina (G) ou Citosina(C));\n",
        "* Desoxirribose (um açúcar de cinco carbonos);\n",
        "* Um grupamento fosfato.\n",
        "\n",
        "As bases nitrogenadas Adenina e Timina são complementares; o mesmo ocorre com Guanina e Citosina.\n",
        "\n",
        "Exemplo de uso:\n",
        "* Entrada: `AATCTGCAC`\n",
        "* Saída: `TTAGACGTG`"
      ]
    },
    {
      "cell_type": "code",
      "execution_count": null,
      "metadata": {
        "id": "wmZLDEF4fBkB"
      },
      "outputs": [],
      "source": [
        "# Função DNA_complementar\n",
        "def DNA_complementar(DNA):\n",
        "  pass"
      ]
    },
    {
      "cell_type": "code",
      "execution_count": null,
      "metadata": {
        "id": "LS3gBig41QyB"
      },
      "outputs": [],
      "source": [
        "# Exercício 03\n",
        "# Entrada de dados\n",
        "DNA = input('Digite a sequência de DNA: ')\n",
        "# DNA complementar\n",
        "DNA_comp = DNA_complementar(DNA)\n",
        "# Saída de dados\n",
        "print(f'Sequência complementar: {DNA_comp}')"
      ]
    },
    {
      "cell_type": "markdown",
      "metadata": {
        "id": "war3Lk2g9tQg"
      },
      "source": [
        "##**Exercício 04 - Ordenar títulos**\n",
        "\n",
        "Elabore um programa modular para ordenar uma lista de títulos de livros em ordem alfabética e deixá-los separados por vírgula.\n",
        "\n",
        "A lista de títulos é fornecida como uma *string* chamada `titulos`, onde cada título está em uma nova linha.\n",
        "\n",
        "Segue exemplo de lista:"
      ]
    },
    {
      "cell_type": "code",
      "execution_count": null,
      "metadata": {
        "id": "NZb7GYVO9645"
      },
      "outputs": [],
      "source": [
        "titulos = \"\"\"O Senhor dos Anéis\n",
        "Harry Potter e a Pedra Filosofal\n",
        "1984\n",
        "O Lobo da Estepe\n",
        "Cem Anos de Solidão\n",
        "A Metamorfose\n",
        "A Revolução dos Bichos\n",
        "Crime e Castigo\n",
        "Macunaíma\"\"\""
      ]
    },
    {
      "cell_type": "code",
      "execution_count": null,
      "metadata": {
        "collapsed": true,
        "id": "645yoUoO-N1H"
      },
      "outputs": [],
      "source": [
        "# Exercício 04\n",
        "\n",
        "def ordenar_titulos(titulos):\n",
        "  pass\n",
        "\n",
        "def juntar_titulos(lista_titulos):\n",
        "  pass\n",
        "\n",
        "# Lista de títulos\n",
        "titulos = \"\"\"O Senhor dos Anéis\n",
        "Harry Potter e a Pedra Filosofal\n",
        "1984\n",
        "O Lobo da Estepe\n",
        "Cem Anos de Solidão\n",
        "A Metamorfose\n",
        "A Revolução dos Bichos\n",
        "Crime e Castigo\n",
        "Macunaíma\"\"\"\n",
        "\n",
        "titulos_ordenados = ordenar_titulos(titulos)\n",
        "titulos_separados_por_virgula = juntar_titulos(titulos_ordenados)\n",
        "print(titulos_separados_por_virgula)"
      ]
    },
    {
      "cell_type": "markdown",
      "metadata": {
        "id": "rJslIK3M--Nr"
      },
      "source": [
        "##**Exercício 05 - Contar palavras**\n",
        "\n",
        "Você trabalha em uma biblioteca e recebeu uma lista de títulos de artigos. Sua tarefa é criar um programa modular que conte quantas vezes uma determinada palavra chave aparece nos títulos dos artigos.\n",
        "\n",
        "Um exemplo de lista de títulos é visto na célula de código a seguir. Use essa lista para testar seu código, usando como entrada a *string* `'GPT'`."
      ]
    },
    {
      "cell_type": "code",
      "execution_count": null,
      "metadata": {
        "id": "lHfM0-ZY_ID6"
      },
      "outputs": [],
      "source": [
        "artigos = [\n",
        "'Recurrent GPT: Interactive Generation of (Arbitrarily) Long Text',\n",
        "'VideoLLM: Modeling Video Sequence with Large Language Models',\n",
        "'Watermarking Text Data on Large Language Models for Dataset Copyright Protection',\n",
        "'InheritSumm: A General, Versatile and Compact Summarizer by Distilling from GPT',\n",
        "'Can Large Language Models emulate an inductive Thematic Analysis of semi-structured interviews? An exploration and provocation on the limits of the approach and the model',\n",
        "'GPT SW3: An Autoregressive Language Model for the Nordic Languages',\n",
        "'The Emergence of Economic Rationality of GPT',\n",
        "'Can We Edit Factual Knowledge by In-Context Learning?',\n",
        "'G3Detector: General GPT Generated Text Detector',\n",
        "'GPT Paternity Test: GPT Generated Text Detection with GPT Genetic Inheritance'\n",
        "]"
      ]
    },
    {
      "cell_type": "code",
      "execution_count": null,
      "metadata": {
        "id": "FDN8S2tD_Jhv"
      },
      "outputs": [],
      "source": [
        "def contar_palavra_em_titulos(artigos, palavra_chave):\n",
        "  pass\n",
        "\n",
        "# Lista de títulos dos artigos\n",
        "artigos = [\n",
        "    'Recurrent GPT: Interactive Generation of (Arbitrarily) Long Text',\n",
        "    'VideoLLM: Modeling Video Sequence with Large Language Models',\n",
        "    'Watermarking Text Data on Large Language Models for Dataset Copyright Protection',\n",
        "    'InheritSumm: A General, Versatile and Compact Summarizer by Distilling from GPT',\n",
        "    'Can Large Language Models emulate an inductive Thematic Analysis of semi-structured interviews? An exploration and provocation on the limits of the approach and the model',\n",
        "    'GPT SW3: An Autoregressive Language Model for the Nordic Languages',\n",
        "    'The Emergence of Economic Rationality of GPT',\n",
        "    'Can We Edit Factual Knowledge by In-Context Learning?',\n",
        "    'G3Detector: General GPT Generated Text Detector',\n",
        "    'GPT Paternity Test: GPT Generated Text Detection with GPT Genetic Inheritance'\n",
        "]\n",
        "\n",
        "palavra_desejada = 'GPT'\n",
        "ocorrencias = contar_palavra_em_titulos(artigos, palavra_desejada)\n",
        "print(f'A palavra \"{palavra_desejada}\" ocorre {ocorrencias} na base de dados.')"
      ]
    }
  ],
  "metadata": {
    "colab": {
      "provenance": []
    },
    "kernelspec": {
      "display_name": "Python 3",
      "language": "python",
      "name": "python3"
    },
    "language_info": {
      "codemirror_mode": {
        "name": "ipython",
        "version": 3
      },
      "file_extension": ".py",
      "mimetype": "text/x-python",
      "name": "python",
      "nbconvert_exporter": "python",
      "pygments_lexer": "ipython3",
      "version": "3.11.9"
    },
    "vscode": {
      "interpreter": {
        "hash": "c261aea317cc0286b3b3261fbba9abdec21eaa57589985bb7a274bf54d6cc0a7"
      }
    }
  },
  "nbformat": 4,
  "nbformat_minor": 0
}
