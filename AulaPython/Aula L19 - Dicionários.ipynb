{
  "cells": [
    {
      "cell_type": "markdown",
      "metadata": {
        "id": "PDPL77ECcuyT"
      },
      "source": [
        "#**TTI103 - Lógica de Programação**\n",
        "\n",
        "#**Aula L19 - Dicionários**"
      ]
    },
    {
      "cell_type": "code",
      "source": [
        "# Criando um dicionário\n"
      ],
      "metadata": {
        "id": "JpfN7V2_YOUw"
      },
      "execution_count": null,
      "outputs": []
    },
    {
      "cell_type": "code",
      "source": [
        "# Acesso aos dados\n"
      ],
      "metadata": {
        "id": "EgRZLtnZYO6_"
      },
      "execution_count": null,
      "outputs": []
    },
    {
      "cell_type": "code",
      "source": [
        "# Verificando as chaves disponíveis\n"
      ],
      "metadata": {
        "id": "s97iwVqtYQtP"
      },
      "execution_count": null,
      "outputs": []
    },
    {
      "cell_type": "code",
      "source": [
        "# Verificando os valores\n"
      ],
      "metadata": {
        "id": "_VOEtp5-mcuU"
      },
      "execution_count": null,
      "outputs": []
    },
    {
      "cell_type": "code",
      "source": [
        "# Juntando keys e values em uma lista de tuplas\n"
      ],
      "metadata": {
        "id": "2famdALSme2D"
      },
      "execution_count": null,
      "outputs": []
    },
    {
      "cell_type": "code",
      "source": [
        "# Relações de pertinência\n"
      ],
      "metadata": {
        "id": "ujbcmY8emhWL"
      },
      "execution_count": null,
      "outputs": []
    },
    {
      "cell_type": "code",
      "source": [
        "# Inclusão no dicionário\n"
      ],
      "metadata": {
        "id": "pHlK-NLdmjgj"
      },
      "execution_count": null,
      "outputs": []
    },
    {
      "cell_type": "code",
      "source": [
        "# Remoção do dicionário\n"
      ],
      "metadata": {
        "id": "QKpsbzbcml7T"
      },
      "execution_count": null,
      "outputs": []
    },
    {
      "cell_type": "code",
      "source": [
        "# Criando dicionários a partir de listas\n"
      ],
      "metadata": {
        "id": "IZpiG6O3YT_i"
      },
      "execution_count": null,
      "outputs": []
    },
    {
      "cell_type": "code",
      "source": [
        "# Mesclando dicionários\n"
      ],
      "metadata": {
        "id": "ZgRdx6ZQtkrC"
      },
      "execution_count": null,
      "outputs": []
    },
    {
      "cell_type": "markdown",
      "source": [
        "A expressão `dict3 = {**dict1, **dict2}` é uma forma concisa e moderna do Python (a partir da versão 3.5) para mesclar dois dicionários em um novo. Vamos verificar o funcionamento do comando:\n",
        "\n",
        "* `**dict1` e `**dict2` fazem um desempacotamento dos pares chave-valor de cada dicionário;\n",
        "\n",
        "* O Python então junta esses pares dentro de um novo dicionário.\n",
        "\n",
        "* Se houver chaves duplicadas, os valores de `dict2` sobrescrevem os de `dict1`, pois `dict2` é o segundo argumento."
      ],
      "metadata": {
        "id": "lLVk6bjAtuRx"
      }
    },
    {
      "cell_type": "markdown",
      "metadata": {
        "id": "5KEQnv5Ss6ZM"
      },
      "source": [
        "##**Exercício 01 - Dicionários de listas**\n",
        "\n",
        "Escreva uma função `ordena_dic` que recebe um dicionário cujos valores são listas e devolve um novo dicionário, com as listas ordenadas. A seguir, teste sua função com os dicionários:\n",
        "\n",
        "`x = {'n1': [2, 3, 1], 'n2': [5, 1, 2], 'n3': [3, 2, 4]}`\n",
        "\n",
        "`y = {'nomes':['Gabriela', 'Jorge', 'Alvaro', 'Zulmira'],'sobrenomes':['Pontes', 'Silva', 'Arantes']}`\n"
      ]
    },
    {
      "cell_type": "code",
      "execution_count": null,
      "metadata": {
        "id": "_pz1FPEwvCSU"
      },
      "outputs": [],
      "source": [
        "# Exercício 01\n",
        "def ordena_dic(dic):\n",
        "  pass\n",
        "\n",
        "x = {'n1': [2, 3, 1], 'n2': [5, 1, 2], 'n3': [3, 2, 4]}\n",
        "y = {'nomes':['Gabriela', 'Jorge', 'Alvaro', 'Zulmira'],\n",
        "     'sobrenomes':['Pontes', 'Silva', 'Arantes']}\n",
        "print(ordena_dic(x))\n",
        "print(ordena_dic(y))"
      ]
    },
    {
      "cell_type": "markdown",
      "metadata": {
        "id": "I5ALa5KMvcbz"
      },
      "source": [
        "##**Exercício 02 - Itens mais caros**\n",
        "\n",
        "Escreva uma função `mais_caros` que retorne os valores dos três itens mais caros de uma determinada compra em uma loja de departamentos. Cada compra é representada por um dicionário cuja chave é o item e o valor o custo associado. A seguir, teste sua função com o dicionário:\n",
        "\n",
        "`compra = {'item1': 45.50, 'item2':35, 'item3': 41.30,\n",
        "          'item4':55, 'item5':24}`"
      ]
    },
    {
      "cell_type": "code",
      "execution_count": null,
      "metadata": {
        "id": "pOJeeeQ4wasY"
      },
      "outputs": [],
      "source": [
        "# Exercício 02\n",
        "def mais_caros(dic):\n",
        "    pass\n",
        "\n",
        "compra = {'item1': 45.50, 'item2':35, 'item3': 41.30, 'item4':55, 'item5':24}\n",
        "top3 = mais_caros(compra)\n",
        "print(top3)"
      ]
    },
    {
      "cell_type": "markdown",
      "metadata": {
        "id": "02E9pK3Rw5SL"
      },
      "source": [
        "##**Exercício 03 - Média de provas**\n",
        "\n",
        "Escreva uma função `calcula_medias` que recebe uma lista de dicionários contendo o RA e as notas das provas P1 e P2 de um grupo de alunos e devolve outra lista de dicionários, contendo o RA e a média obtida nas provas. A seguir, teste sua função com o dicionário:\n",
        "\n",
        "`notas_alunos = [{'RA':'0123', 'P1':6.5, 'P2':8.5},\n",
        "                {'RA':'2189', 'P1':10.0, 'P2':6.0},\n",
        "                {'RA':'3577', 'P1':3.5, 'P2':7.0}]`"
      ]
    },
    {
      "cell_type": "code",
      "execution_count": null,
      "metadata": {
        "id": "JnvzAvTfx0rz"
      },
      "outputs": [],
      "source": [
        "# Exercício 03\n",
        "def calcula_medias(lista_dic):\n",
        "  pass\n",
        "\n",
        "notas_alunos = [{'RA':'0123', 'P1':6.5, 'P2':8.5},\n",
        "                {'RA':'2189', 'P1':10.0, 'P2':6.0},\n",
        "                {'RA':'3577', 'P1':3.5, 'P2':7.0}]\n",
        "medias_alunos = calcula_medias(notas_alunos)\n",
        "print(medias_alunos)"
      ]
    },
    {
      "cell_type": "markdown",
      "source": [
        "##**Exercício 04 - Histograma de palavras**\n",
        "\n",
        "Construa a função `hist_palavras` que recebe uma *string* `txt` e retorna um dicionário que registra a ocorrência de cada letra que compõe `txt`. Não faça distinção entre letras maiúsculas e minúsculas, nem entre letras acentuadas. Teste sua função com a entrada:\n",
        "\n",
        "`'''Minha terra tem palmeiras,\n",
        "Onde canta o Sabiá;\n",
        "As aves, que aqui gorjeiam,\n",
        "Não gorjeiam como lá.'''`\n",
        "\n",
        "A seguir, pesquise como representar o resultado na forma gráfica!"
      ],
      "metadata": {
        "id": "IqRio_0Eu2op"
      }
    },
    {
      "cell_type": "code",
      "source": [
        "import unicodedata\n",
        "import matplotlib.pyplot as plt\n",
        "\n",
        "def hist_palavras(txt):\n",
        "  pass\n",
        "\n",
        "# Texto de entrada\n",
        "texto = '''Minha terra tem palmeiras,\n",
        "Onde canta o Sabiá;\n",
        "As aves, que aqui gorjeiam,\n",
        "Não gorjeiam como lá.'''\n",
        "\n",
        "# Gera o histograma\n",
        "frequencia = hist_palavras(texto)\n",
        "\n",
        "# Imprime o dicionário\n",
        "\n",
        "# Gráfico\n"
      ],
      "metadata": {
        "id": "5VegzeDOw9LP"
      },
      "execution_count": null,
      "outputs": []
    },
    {
      "cell_type": "markdown",
      "source": [
        "O código que construímos apresenta o comando:\n",
        "\n",
        "`txt = unicodedata.normalize('NFD', txt).encode('ascii', 'ignore').decode('utf-8').lower()`\n",
        "\n",
        "Vamos explicar seu funcionamento, passo-a-passo:\n",
        "\n",
        "🔹 `unicodedata.normalize('NFD', txt)` tem como objetivo decompor os caracteres acentuados.\n",
        "\n",
        "- Exemplo: transforma `'á'` em `'a'` + `'́´'` (letra + acento).\n",
        "\n",
        "- `'NFD'` significa *Normalization Form Decomposed*.\n",
        "\n",
        "🔹 `.encode('ascii', 'ignore')` codifica o texto para ASCII, ignorando qualquer caractere que não esteja no alfabeto básico (A-Z, a-z). Isso remove os acentos que foram separados na etapa anterior.\n",
        "\n",
        "- Exemplo: `'á'` + `'´'`  (a + acento) vira apenas `'a'`.\n",
        "\n",
        "🔹 `.decode('utf-8')` converte de volta para *string* legível em Python, uma vez que, após `.encode(...)`, a informação está em bytes. Esse passo transforma novamente em `string`.\n",
        "\n",
        "🔹 `.lower()` converte tudo para minúsculas, faciltndo a contagem de ocorrências. Isso garante, por exemplo, que `'A'` e `'a'` sejam tratados como a mesma letra.\n",
        "\n",
        "✅ Resultado: O texto está sem acentos, todo em letras minúsculas e pronto para análise de frequência de letras.\n",
        "\n",
        "Também usamos `hist.get(char, 0)`. Esse método tenta obter o valor da chave `char` (ou seja, quantas vezes a letra já apareceu). Se a chave não existir ainda, ele retorna `0` como valor padrão. Assim, evitamos erros do tipo `KeyError`."
      ],
      "metadata": {
        "id": "De-lfSG5xFj4"
      }
    },
    {
      "cell_type": "markdown",
      "source": [
        "##**Exercício 04 - Histograma de palavras**\n",
        "\n",
        "No exercício anterior, criamos um dicionário que mapeia as ocorrências de cada letra presente em um texto. Também é de interesse um dicionário que faça o \"inverso\", ou seja, um um dicionário que mapeie de frequências (chaves) a letras (valores). Como pode haver várias letras com a mesma frequência, cada valor no dicionário invertido deve ser uma lista de letras.\n",
        "\n",
        "Crie uma função `inverter histograma` que recebe um histograma de frequência de letras e o mapeia de forma invertida, levando frequências à valores. Teste sua função com o mesmo texto do exercício anteriror."
      ],
      "metadata": {
        "id": "wwI0_umjzrQf"
      }
    },
    {
      "cell_type": "code",
      "source": [
        "def inverter_histograma(hist):\n",
        "  pass\n",
        "\n",
        "texto = '''Minha terra tem palmeiras,\n",
        "Onde canta o Sabiá;\n",
        "As aves, que aqui gorjeiam,\n",
        "Não gorjeiam como lá.'''\n",
        "\n",
        "# Calcula frequência de letras\n",
        "hist = hist_palavras(texto)\n",
        "\n",
        "# Inverte o histograma\n",
        "invertido = inverter_histograma(hist)\n",
        "\n",
        "# Exibe o dicionário invertido ordenado por frequência\n"
      ],
      "metadata": {
        "id": "IIEfPnIZ4cSD"
      },
      "execution_count": null,
      "outputs": []
    }
  ],
  "metadata": {
    "colab": {
      "provenance": []
    },
    "kernelspec": {
      "display_name": "Python 3",
      "language": "python",
      "name": "python3"
    },
    "language_info": {
      "codemirror_mode": {
        "name": "ipython",
        "version": 3
      },
      "file_extension": ".py",
      "mimetype": "text/x-python",
      "name": "python",
      "nbconvert_exporter": "python",
      "pygments_lexer": "ipython3",
      "version": "3.11.3"
    },
    "vscode": {
      "interpreter": {
        "hash": "c261aea317cc0286b3b3261fbba9abdec21eaa57589985bb7a274bf54d6cc0a7"
      }
    }
  },
  "nbformat": 4,
  "nbformat_minor": 0
}