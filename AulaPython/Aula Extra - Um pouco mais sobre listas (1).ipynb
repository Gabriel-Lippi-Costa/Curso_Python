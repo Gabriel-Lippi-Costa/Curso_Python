{
  "cells": [
    {
      "cell_type": "markdown",
      "metadata": {
        "id": "nZUyxKuZlnTn"
      },
      "source": [
        "#**TTI103 - Lógica de Programação**\n",
        "\n",
        "#**Aula Extra - Um pouco mais sobre listas**"
      ]
    },
    {
      "cell_type": "markdown",
      "metadata": {
        "id": "qULeFgl_UdD-"
      },
      "source": [
        "##**Exercício 01**\n",
        "Escreva um programa em Python para remover duplicatas de uma lista."
      ]
    },
    {
      "cell_type": "code",
      "execution_count": 4,
      "metadata": {
        "id": "IAWRGYgpVPpO"
      },
      "outputs": [
        {
          "name": "stdout",
          "output_type": "stream",
          "text": [
            "[1, 2, 3, 4, 'maçã', 5, 6, 'uva', 10, 15, 25, 20]\n"
          ]
        }
      ],
      "source": [
        "# Exercício 01\n",
        "\n",
        "# Lista original com duplicatas\n",
        "lista_original = [1, 2, 2, 3, 4, 'maçã', 4, 5, 1, 6, 'uva',\n",
        "                  10, 15, 10, 25, 'maçã', 20, 20, 15]\n",
        "\n",
        "lista_sem_duplicadas = []\n",
        "\n",
        "for i in lista_original:\n",
        "    if i not in lista_sem_duplicadas:\n",
        "        lista_sem_duplicadas.append(i)\n",
        "\n",
        "print(lista_sem_duplicadas)"
      ]
    },
    {
      "cell_type": "markdown",
      "metadata": {
        "id": "UawS72z_VOn7"
      },
      "source": [
        "##**Exercício 02**\n",
        "\n"
      ]
    },
    {
      "cell_type": "markdown",
      "metadata": {
        "id": "XxdYJfUiYpiD"
      },
      "source": [
        "Escreva um programa em Python que exiba os elementos comuns em duas listas, que podem ter tamanhos diferentes."
      ]
    },
    {
      "cell_type": "code",
      "execution_count": null,
      "metadata": {
        "id": "hmF9yRlLZltr"
      },
      "outputs": [
        {
          "name": "stdout",
          "output_type": "stream",
          "text": [
            "[1, 3, 'uva', 5, 6]\n"
          ]
        }
      ],
      "source": [
        "# Exercício 02\n",
        "\n",
        "# Listas para teste\n",
        "lista1 = [1, 2, 2, 3, 'uva', 4, 5, 5, 6]\n",
        "lista2 = [5, 5, 'morango', 3, 3, 9, 1, 10, 'uva', 3, 6]\n",
        "lista_nao_elementos_comuns = []\n",
        "\n",
        "for i in lista1:\n",
        "    if i in lista2 and i not in lista_elementos_comuns:\n",
        "        lista_nao_elementos_comuns.append(i)\n",
        "\n",
        "print(lista_nao_elementos_comuns)"
      ]
    },
    {
      "cell_type": "markdown",
      "metadata": {
        "id": "pP28YB9EbdzF"
      },
      "source": [
        "##**Exercício 03**\n",
        "\n",
        "Escreva um programa em Python que exibe os elementos diferentes entre duas listas, ou seja, aqueles elementos que estão em uma lista, mas não estão na outra, sem repetição."
      ]
    },
    {
      "cell_type": "code",
      "execution_count": 9,
      "metadata": {
        "id": "5L3VBfrmeQCC"
      },
      "outputs": [
        {
          "name": "stdout",
          "output_type": "stream",
          "text": [
            "[1, 2, 3, 'abacaxi', 6, 'uva', 7, 8]\n"
          ]
        }
      ],
      "source": [
        "# Exercício 03\n",
        "\n",
        "# Duas listas com possíveis elementos repetidos\n",
        "lista1 = [1, 2, 3, 4, 5, 'abacaxi', 'pera']\n",
        "lista2 = [4, 5, 6, 'uva', 'pera', 7, 8]\n",
        "lista_elementos_comuns =[]\n",
        "\n",
        "for i in lista1:\n",
        "    if i not in lista2:\n",
        "        lista_elementos_comuns.append(i)\n",
        "    \n",
        "for i in lista2:\n",
        "    if i not in lista1:\n",
        "        lista_elementos_comuns.append(i)\n",
        "\n",
        "print(lista_elementos_comuns)"
      ]
    },
    {
      "cell_type": "markdown",
      "metadata": {
        "id": "N5oJbm34UId_"
      },
      "source": [
        "##**Exercício 04**\n",
        "\n",
        "Uma *shallow list* (lista rasa) é uma lista que contém sublistas simples, sem níveis profundos de aninhamento. Por exemplo:\n",
        "\n",
        "`lista = [[1, 2, 'amarelo'], [3, 4], ['vermelho', 5, 6]]`\n",
        "\n",
        "Muitas vezes, deeja-se \"achatar\" uma lista rasa, ou seja, transformar uma lista de listas em uma lista única com todos os elementos (*flat list*).\n",
        "\n",
        "Escreva um programa Python que transforme uma lista rasa (*shallow list*) em uma lista simples."
      ]
    },
    {
      "cell_type": "code",
      "execution_count": 10,
      "metadata": {
        "id": "a4WCsdDAfMmC"
      },
      "outputs": [
        {
          "name": "stdout",
          "output_type": "stream",
          "text": [
            "[1, 2, 'amarelo', 3, 4, 'vermelho', 5, 6]\n"
          ]
        }
      ],
      "source": [
        "# Exercício 04\n",
        "\n",
        "# Lista rasa para teste\n",
        "lista = [[1, 2, 'amarelo'], [3, 4], ['vermelho', 5, 6]]\n",
        "\n",
        "lista_simples = []\n",
        "\n",
        "for sublista in lista:\n",
        "    for item in sublista:\n",
        "        lista_simples.append(item)\n",
        "\n",
        "print(lista_simples)"
      ]
    },
    {
      "cell_type": "markdown",
      "metadata": {
        "id": "DsYPUeEavoOA"
      },
      "source": [
        "##**Exercício 05**\n",
        "Remover valores `None` de uma lista em Python é uma tarefa comum ao limpar ou processar dados. Esse processo ajuda a filtrar elementos indesejados, deixando apenas os valores significativos na lista para uso posterior. Escreva um programa que elimine todos os valores `None`de uma lista."
      ]
    },
    {
      "cell_type": "code",
      "execution_count": 14,
      "metadata": {
        "id": "Hboc0CSWwBrC"
      },
      "outputs": [
        {
          "name": "stdout",
          "output_type": "stream",
          "text": [
            "[1, 3, 5, 0, -15, 3, 5, 10, 3.5, 2.71, 12]\n"
          ]
        }
      ],
      "source": [
        "# Exercício 05\n",
        "\n",
        "# Lista com valores None\n",
        "lista_original = [1, None, 3, None, 5, 0, -15, None, None, 3, 5,\n",
        "                  10, 3.5, 2.71, None, 12]\n",
        "\n",
        "lista_sem_none = []\n",
        "\n",
        "for i in lista_original:\n",
        "    if i is not None:\n",
        "        lista_sem_none.append(i)\n",
        "\n",
        "print(lista_sem_none)"
      ]
    },
    {
      "cell_type": "markdown",
      "metadata": {
        "id": "VxeIG0TVwniw"
      },
      "source": [
        "##**Exercício 06**\n",
        "Modifique o programa anterior para substituir os valores `None` pela média dos demais valores. Essa é uma operação bastante comum em Ciência de Dados."
      ]
    },
    {
      "cell_type": "code",
      "execution_count": 17,
      "metadata": {
        "id": "6OtsLRZyxROp"
      },
      "outputs": [
        {
          "name": "stdout",
          "output_type": "stream",
          "text": [
            "[1, 3, 5, 0, -15, 3, 5, 10, 3.5, 2.71, 12]\n",
            "2.7463636363636366\n"
          ]
        }
      ],
      "source": [
        "# Exercício 06\n",
        "\n",
        "# Lista com valores None\n",
        "lista_original = [1, None, 3, None, 5, 0, -15, None, None, 3, 5,\n",
        "                  10, 3.5, 2.71, None, 12]\n",
        "\n",
        "lista_sem_nones = []\n",
        "\n",
        "for i in lista_original:\n",
        "    if i is not None:\n",
        "        lista_sem_nones.append(i)\n",
        "\n",
        "soma = 0\n",
        "for i in lista_sem_nones:\n",
        "    soma += i\n",
        "\n",
        "print(lista_sem_nones)\n",
        "print(soma / len(lista_sem_nones))"
      ]
    },
    {
      "cell_type": "markdown",
      "metadata": {
        "id": "Cyj6V9zBu1SJ"
      },
      "source": [
        "##**Exercício 07**\n",
        "O **Crivo de Eratóstenes** é um algoritmo eficiente para encontrar todos os números primos até um determinado número $n$. O algoritmo elimina os múltiplos de números primos sucessivos, começando pelo 2, ao executar os seguintes passos:\n",
        "\n",
        "1. Crie uma lista de números de 2 até $n$.\n",
        "\n",
        "2. Comece com o primeiro número da lista (2), marque ele como primo e elimine todos os seus múltiplos.\n",
        "\n",
        "3. Passe para o próximo número não eliminado e marque como primo, e então elimine todos os seus múltiplos.\n",
        "\n",
        "4. Repita o processo até que você tenha verificado até $\\sqrt(n)$ (pois múltiplos maiores já terão sido eliminados por números menores).\n",
        "\n",
        "Veja um exemplo com o número $n=30$:\n",
        "\n",
        "* Comece com a lista de números de 2 até 30:\n",
        "\n",
        "`[2, 3, 4, 5, 6, 7, 8, 9, 10, 11, 12, 13, 14, 15, 16, 17, 18, 19, 20, 21, 22, 23, 24, 25, 26, 27, 28, 29, 30]`\n",
        "\n",
        "* O primeiro número é 2, então marque 2 como primo e elimine todos os múltiplos de 2 (exceto o próprio 2):\n",
        "\n",
        "`[2, 3, X, 5, X, 7, X, 9, X, 11, X, 13, X, 15, X, 17, X, 19, X, 21, X, 23, X, 25, X, 27, X, 29, X]`\n",
        "\n",
        "* O próximo número não eliminado é 3, então marque 3 como primo e elimine todos os múltiplos de 3 (exceto o próprio 3):\n",
        "\n",
        "`[2, 3, X, 5, X, 7, X, 9, X, 11, X, 13, X, 15, X, 17, X, 19, X, 21, X, 23, X, 25, X, 27, X, 29, X]`\n",
        "\n",
        "* O próximo número não eliminado é 5, marque 5 como primo e elimine todos os múltiplos de 5 (exceto o próprio 5):\n",
        "\n",
        "`[2, 3, X, 5, X, 7, X, 9, X, 11, X, 13, X, 15, X, 17, X, 19, X, 21, X, 23, X, 25, X, 27, X, 29, X]`\n",
        "\n",
        "* O próximo número não eliminado é 7, marque 7 como primo e elimine todos os múltiplos de 7 (exceto o próprio 7):\n",
        "\n",
        "`[2, 3, X, 5, X, 7, X, 9, X, 11, X, 13, X, 15, X, 17, X, 19, X, X, X, 23, X, 25, X, 27, X, 29, X]`\n",
        "\n",
        "* Continue até encontrar todos os números primos até 30.\n",
        "\n",
        "* Resultado:\n",
        "\n",
        "`[2, 3, 5, 7, 11, 13, 17, 19, 23, 29]`"
      ]
    },
    {
      "cell_type": "code",
      "execution_count": null,
      "metadata": {
        "id": "2SVcUhc9xicS"
      },
      "outputs": [],
      "source": [
        "# Exercício 07\n",
        "\n",
        "# Valor de n\n",
        "n = int(input('Digite o inteiro n para determinar os primos de 2 até n: '))\n",
        "\n",
        "# Lista de booleanos de tamanho n+1 (para números de 0 a n)\n",
        "\n",
        "# Crivo de Eratóstenes: múltiplos de números primos são marcados como False\n",
        "\n",
        "'''Por que i * i na linha for j in range(i * i, n + 1, i) e não i * 2?\n",
        "Quando estamos marcando os múltiplos de i como não primos:\n",
        "*Todos os múltiplos menores que i * i já foram eliminados por crivos anteriores.\n",
        "* Ou seja, se i = 5, então 2, 3 e 4 já eliminaram 5*2 = 10, 5*3 = 15,\n",
        "5*4 = 20 e assim por diante.\n",
        "Então começamos de i * i para evitar trabalho desnecessário.'''\n",
        "\n",
        "# Crie a lista de números primos\n",
        "\n",
        "# Exiba os números primos\n",
        "print(f'\\nNúmeros primos até {n}:\\n{primos_lista}')"
      ]
    }
  ],
  "metadata": {
    "colab": {
      "provenance": []
    },
    "kernelspec": {
      "display_name": "Python 3",
      "name": "python3"
    },
    "language_info": {
      "codemirror_mode": {
        "name": "ipython",
        "version": 3
      },
      "file_extension": ".py",
      "mimetype": "text/x-python",
      "name": "python",
      "nbconvert_exporter": "python",
      "pygments_lexer": "ipython3",
      "version": "3.11.9"
    }
  },
  "nbformat": 4,
  "nbformat_minor": 0
}
