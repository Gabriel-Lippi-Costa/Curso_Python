{
  "cells": [
    {
      "cell_type": "markdown",
      "metadata": {
        "id": "oNAE5ZPfjt3g"
      },
      "source": [
        "#**TTI103 - Lógica de Programação**\n",
        "\n",
        "#**Aula L11 - Atividade 01**\n",
        "\n",
        "#**Profa. Anagrasi - LAB4 - 02.04.2025 - 7h40**"
      ]
    },
    {
      "cell_type": "markdown",
      "metadata": {
        "id": "v9WCpnd-qtLX"
      },
      "source": [
        "# Instruções\n",
        "* As atividades cobrem os assuntos estudados nas aulas L1 a L7.\n",
        "* Podem ser realizadas em duplas.\n",
        "* Constam de três exercícios:\n",
        "  * Exercício 01 - Valor 2,0 pontos;\n",
        "  * Exercício 02 - Valor 4,0 pontos;\n",
        "  * Exercício 03 - Valor 4,0 pontos.\n",
        "* Apresentar ao professor após finalizar as 3 atividades.\n",
        "* O arquivo com as respostas deve ser enviado ao ambiente Canvas por apenas um dos integrantes da equipe.\n"
      ]
    },
    {
      "cell_type": "markdown",
      "metadata": {
        "id": "1Iie7NE8pkFd"
      },
      "source": [
        "#Identificação\n",
        "A atividade será realizada em duplas. Favor identificar a tarefa com nome completo e RA de cada integrante da equipe."
      ]
    },
    {
      "cell_type": "code",
      "execution_count": null,
      "metadata": {
        "id": "rGI7vP0Ajsob"
      },
      "outputs": [],
      "source": [
        "# @title Nome - 1º Integrante:\n",
        "Nome1 = \"Gabriel Lippi da Costa\" # @param {type:\"string\"}\n"
      ]
    },
    {
      "cell_type": "code",
      "execution_count": null,
      "metadata": {
        "id": "UnY5L7gCqUkV"
      },
      "outputs": [],
      "source": [
        "# @title RA - 1º Integrante:\n",
        "RA1 = \"25.01686-6\" # @param {type:\"string\"}\n"
      ]
    },
    {
      "cell_type": "code",
      "execution_count": null,
      "metadata": {
        "id": "tJwGc4L-q0X4"
      },
      "outputs": [],
      "source": [
        "# @title Nome - 2º Integrante:\n",
        "Nome2 = \"Zion Di Tizio Zanchettin\" # @param {type:\"string\"}\n"
      ]
    },
    {
      "cell_type": "code",
      "execution_count": null,
      "metadata": {
        "id": "PRb_skA9q9fh"
      },
      "outputs": [],
      "source": [
        "# @title RA - 2º Integrante:\n",
        "RA2 = \"25.00352-6\" # @param {type:\"string\"}\n"
      ]
    },
    {
      "cell_type": "markdown",
      "metadata": {
        "id": "yHnnxSvFrggG"
      },
      "source": [
        "#**Exercício 01 - Cálculo da Taxa Metabólica Basal (TMB)**\n",
        "**(Valor: 2,0 pts)** A Taxa Metabólica Basal (TMB) é a quantidade de energia que o corpo necessita para manter suas funções vitais em repouso, como respirar, circular o sangue, e manter a temperatura corporal, medida em calorias por dia. A fórmula para calcular a TMB varia entre homens e mulheres e é baseada no peso, altura e idade da pessoa.\n",
        "\n",
        "**Fórmulas para o cálculo da TMB:**\n",
        "\n",
        "* **Para homens:** TMB = 88,362 + (13,397 x peso em kg) + (4,799 x altura em cm) - (5,677 x idade em anos)\n",
        "* **Para mulheres:** TMB = 447,593 + (9,247 x peso em kg) + (3,098 x altura em cm) - (4,330 x idade em anos)\n",
        "\n",
        "Escreva um programa em Python que solicite ao usuário seu gênero (masculino ou feminino), peso (em quilogramas), altura (em centímetros) e idade (em anos). O programa deve então calcular a TMB do usuário com base nas fórmulas fornecidas e exibir o resultado."
      ]
    },
    {
      "cell_type": "code",
      "execution_count": null,
      "metadata": {
        "id": "KNfFhw25tqIe"
      },
      "outputs": [
        {
          "ename": "",
          "evalue": "",
          "output_type": "error",
          "traceback": [
            "\u001b[1;31mA execução de células com 'Python 3.11.9' requer o pacote ipykernel.\n",
            "\u001b[1;31mExecute o seguinte comando para instalar \"ipykernel\" no ambiente do Python. \n",
            "\u001b[1;31mComando: \"c:/Users/Gabriel/AppData/Local/Microsoft/WindowsApps/python3.11.exe -m pip install ipykernel -U --user --force-reinstall\""
          ]
        }
      ],
      "source": [
        "# Solicita ao usuário seu gênero, peso, altura e idade\n",
        "genero = input(\"Digite seu gênero (masculino/feminino): \").lower()\n",
        "while genero not in [\"feminino\", \"masculino\"]:\n",
        "    print(\"Gênero inválido. Digite corretamente (masculino/feminino): \")\n",
        "    genero = input(\"Digite seu gênero (masculino/feminino): \").lower()\n",
        "\n",
        "peso = float(input(\"Digite seu peso em kg (exemplo: 70): \"))\n",
        "altura = float(input(\"Digite sua altura em cm (exemplo: 175): \"))\n",
        "idade = int(input(\"Digite sua idade em anos (exemplo: 30): \"))\n",
        "\n",
        "# Calcula a TMB com base no gênero do usuário\n",
        "if genero == \"masculino\":\n",
        "    TMB = 88.362 + (13.397 * peso) + (4.799 * altura) - (5.677 * idade)\n",
        "else:  # O gênero já foi validado, então só pode ser \"feminino\"\n",
        "    TMB = 447.593 + (9.247 * peso) + (3.098 * altura) - (4.330 * idade)\n",
        "\n",
        "# Exibe o resultado da TMB\n",
        "print(f\"Sua Taxa Metabólica Basal (TMB) é: {TMB:.2f} calorias/dia\")\n"
      ]
    },
    {
      "cell_type": "markdown",
      "metadata": {
        "id": "w_vMamRst7pg"
      },
      "source": [
        "#**Exercício 02 - Cálculo do Consumo de Energia Elétrica**\n",
        "\n",
        "**(Valor: 4,0 pts)**\n",
        "A companhia de eletricidade EletroLuz cobra seus clientes de acordo com o consumo mensal de energia elétrica. A tarifação funciona da seguinte forma:\n",
        "\n",
        "* Consumos de até 100 kWh são cobrados a R$1,00 por kWh.\n",
        "* De 101 a 200 kWh, o preço é de 1,25 por kWh.\n",
        "* Acima de 200 kWh, cada kWh adicional custa 1,50.\n",
        "* Além disso, todos os clientes pagam uma taxa de disponibilidade de serviço de 30,00, independentemente do consumo.\n",
        "\n",
        "Desenvolva um programa em Python que solicite ao usuário o consumo mensal de energia elétrica em kWh. O programa deve então calcular o valor total da conta de luz do consumidor, com base no seu consumo mensal.\n",
        "\n"
      ]
    },
    {
      "cell_type": "code",
      "execution_count": null,
      "metadata": {
        "id": "GArN9lgWzTQu"
      },
      "outputs": [],
      "source": [
        "# Solicita ao usuário o consumo mensal de energia em kWh\n",
        "consumo_energia = float(input(\"Digite o consumo mensal de energia em kWh: \"))\n",
        "\n",
        "# Define a taxa de disponibilidade de serviço\n",
        "taxa_servico = 30.00\n",
        "\n",
        "# Verifica se o consumo é válido\n",
        "if consumo_energia <= 0:\n",
        "    print(\"Erro: Digite um valor válido para o consumo de energia.\")\n",
        "else:\n",
        "    # Inicializa o custo da energia com base no consumo\n",
        "    if consumo_energia <= 100:\n",
        "        valor_total = (consumo_energia * 1.00) + taxa_servico\n",
        "    elif consumo_energia <= 200:\n",
        "        valor_total = (100 * 1.00) + ((consumo_energia - 100) * 1.25) + taxa_servico\n",
        "    else:\n",
        "        valor_total = (100 * 1.00) + (100 * 1.25) + ((consumo_energia - 200) * 1.50) + taxa_servico\n",
        "\n",
        "    # Exibe o valor total da conta de energia\n",
        "    print(f\"O valor total da sua conta de energia é: R$ {valor_total:.2f}\")\n"
      ]
    },
    {
      "cell_type": "markdown",
      "metadata": {
        "id": "YnRB-l7U1qX6"
      },
      "source": [
        "#**Exercício 03 - Sistema de Reservas para um Cinema**\n",
        "\n",
        "**(Valor: 4,0 pts)** Desenvolver um programa em Python para gerenciar reservas em um cinema, considerando diferentes categorias de assentos e aplicando descontos para compras em grande quantidade.\n",
        "\n",
        "**Detalhes:**\n",
        "\n",
        "* Categorias de assentos: normal, VIP, premium.\n",
        "* Preços: Normal = 20,00; VIP = 40,00; Premium = 60,00.\n",
        "* Quantidades iniciais de assentos disponíveis: Normal = 100; VIP = 50; Premium = 30.\n",
        "* Desconto para compras de mais de 5 ingressos: 10%.\n",
        "\n",
        "**Requisitos do Programa:**\n",
        "\n",
        "* Solicitar ao usuário o tipo de assento desejado e a quantidade.\n",
        "* Verificar a disponibilidade de assentos na categoria escolhida.\n",
        "* Se disponível, calcular o preço total com desconto, se aplicável, e confirmar a reserva.\n",
        "* Se não disponível, informar a quantidade máxima disponível."
      ]
    },
    {
      "cell_type": "code",
      "execution_count": null,
      "metadata": {
        "id": "rbBisLdA0HmN"
      },
      "outputs": [],
      "source": [
        "assentos_disponiveis = {\"normal\": 100, \"vip\": 50, \"premium\": 30}\n",
        "precos = {\"normal\": 20.00, \"vip\": 40.00, \"premium\": 60.00}\n",
        "\n",
        "# Entrada e validação do tipo de assento\n",
        "assento = input(\"Qual assento você deseja? (Normal/VIP/Premium) \").strip().lower()\n",
        "\n",
        "while assento not in assentos_disponiveis:\n",
        "    print(\"Digite corretamente a categoria do seu assento.\")\n",
        "    assento = input(\"Qual assento você deseja? (Normal/VIP/Premium) \").strip().lower()\n",
        "\n",
        "# Entrada e validação da quantidade de ingressos\n",
        "while True:\n",
        "    try:\n",
        "        quantidade = int(input(\"Digite a quantidade de ingressos: \"))\n",
        "        if quantidade <= 0:\n",
        "            print(\"A quantidade deve ser um número positivo.\")\n",
        "        else:\n",
        "            break\n",
        "    except ValueError:\n",
        "        print(\"Por favor, insira um número válido.\")\n",
        "\n",
        "# Verifica a disponibilidade\n",
        "if quantidade > assentos_disponiveis[assento]:\n",
        "    print(f\"Desculpe, temos apenas {assentos_disponiveis[assento]} ingressos disponíveis na categoria {assento.capitalize()}.\")\n",
        "else:\n",
        "    # Cálculo do preço total\n",
        "    preco_total = quantidade * precos[assento]\n",
        "    \n",
        "    # Aplicação do desconto caso compre mais de 5 ingressos\n",
        "    if quantidade > 5:\n",
        "        preco_total *= 0.9  # Aplicando 10% de desconto\n",
        "    \n",
        "    print(f\"Reserva confirmada! Total a pagar: R$ {preco_total:.2f}\")\n",
        "\n",
        "    # Atualiza os assentos disponíveis\n",
        "    assentos_disponiveis[assento] -= quantidade\n",
        "#Comando strip: Ele remove todos os espaços\n",
        "#Comando capitalize: função que altera o primeiro caractere de uma string para maiúscula e os outros para minúsculas"
      ]
    }
  ],
  "metadata": {
    "colab": {
      "provenance": []
    },
    "kernelspec": {
      "display_name": "Python 3",
      "name": "python3"
    },
    "language_info": {
      "name": "python",
      "version": "3.11.9"
    }
  },
  "nbformat": 4,
  "nbformat_minor": 0
}
