{
  "cells": [
    {
      "cell_type": "markdown",
      "metadata": {
        "id": "eukAJhnq3T1T"
      },
      "source": [
        "#**TTI103 - Lógica de Programação**\n",
        "\n",
        "#**Aula L17 - Strings**"
      ]
    },
    {
      "cell_type": "markdown",
      "metadata": {
        "id": "WaIyvXLa38Xo"
      },
      "source": [
        "##**Exercício 01 – Gerando o *user name***\n",
        "\n",
        "Em uma universidade, à cada estudante é atribuído um *user name* necessário para o acesso à rede discente. Como parte de seu estágio no Departamento de Tecnologia da Informação da universidade, foi-lhe atribuída a tarefa de escrever um programa responsável pela geração dos nomes de usuário para os estudantes. As regras para a construção são vistas a seguir:\n",
        "\n",
        "* Selecione os três primeiros caracteres do nome do estudante (caso o nome possua menos de três caracteres, use o nome completo);\n",
        "\n",
        "* Selecione os três primeiros caracteres do sobrenome do estudante (caso o sobrenome possua menos de três caracteres, use o sobrenome completo);\n",
        "\n",
        "* Selecione os três últimos caracteres do registro acadêmico [RA ou ID] do estudante (caso o registro acadêmico ou ID possua menos de três caracteres, use o registro completo);\n",
        "\n",
        "* O *user name* é criado pela concatenação dos três conjuntos de caracteres (em caixa baixa).\n",
        "\n",
        "Para a criação do programa, modularize seu código:\n",
        "\n",
        "**a)** Crie uma função `gera_login` que recebe como parâmetros o nome, o sobrenome e o registro acadêmico de um estudante e retorna o user name criado.\n"
      ]
    },
    {
      "cell_type": "code",
      "execution_count": 5,
      "metadata": {
        "id": "T6hD6HtbhvmY"
      },
      "outputs": [
        {
          "name": "stdout",
          "output_type": "stream",
          "text": [
            "O seu username é: gablip866\n"
          ]
        }
      ],
      "source": [
        "def gera_login(nome, sobrenome, ra):\n",
        "    parte_nome = nome[:3] if len(nome) >= 3 else nome\n",
        "    \n",
        "    parte_sobrenome = sobrenome[:3] if len(sobrenome) >= 3 else sobrenome\n",
        "    \n",
        "    parte_ra = ra[-3:] if len(ra) >= 3 else ra\n",
        "    \n",
        "    username = (parte_nome + parte_sobrenome + parte_ra).lower()\n",
        "    \n",
        "    return username\n",
        "\n",
        "nome = input(\"Digite o seu nome: \")\n",
        "sobrenome = input(\"Digite o seu sobrenome: \")\n",
        "ra = input(\"Digite o seu RA: \")\n",
        "\n",
        "username = gera_login(nome, sobrenome, ra)\n",
        "print(f\"O seu username é: {username}\")\n"
      ]
    },
    {
      "cell_type": "markdown",
      "metadata": {
        "id": "9H4LxlTAhykX"
      },
      "source": [
        "**b)** Elabore um programa que permita a entrada de dados de um estudante e exiba o respectivo user name."
      ]
    },
    {
      "cell_type": "code",
      "execution_count": null,
      "metadata": {
        "id": "JbFcLo9hh2SX"
      },
      "outputs": [],
      "source": [
        "# Programa\n",
        "def gera_login(nome, sobrenome, ra):\n",
        "    parte_nome = nome[:3] if len(nome) >= 3 else nome\n",
        "    \n",
        "    parte_sobrenome = sobrenome[:3] if len(sobrenome) >= 3 else sobrenome\n",
        "    \n",
        "    parte_ra = ra[-3:] if len(ra) >= 3 else ra\n",
        "    \n",
        "    username = (parte_nome + parte_sobrenome + parte_ra).lower()\n",
        "    \n",
        "    return username\n",
        "\n",
        "nome = input(\"Digite o seu nome: \")\n",
        "sobrenome = input(\"Digite o seu sobrenome: \")\n",
        "ra = input(\"Digite o seu RA: \")\n",
        "\n",
        "username = gera_login(nome, sobrenome, ra)\n",
        "print(f\"O seu username é: {username}\")\n"
      ]
    },
    {
      "cell_type": "markdown",
      "metadata": {
        "id": "SMMs32Hih5VO"
      },
      "source": [
        "##**Exercício 02 - Validação de senha**\n",
        "\n",
        "Continuando seu trabalho no Departamento de TI da universidade, sua nova tarefa é a criação de um programa que valide a escolha de senha de cada estudante para o acesso à rede de computadores. Quando da criação da senha, o estudante foi comunicado de que a senha escolhida devia:\n",
        "\n",
        "* Ser formada por, no mínimo, sete caracteres;\n",
        "* Conter ao menos uma letra maiúscula;\n",
        "* Conter ao menos uma letra minúscula;\n",
        "* Conter ao menos um dígito numérico.\n",
        "\n",
        "Para a criação do programa, modularize seu código:\n",
        "\n",
        "**a)** Crie uma função `valida_senha` que recebe como parâmetro a senha do usuário e retorna `True` se a senha é válida ou `False`, caso contrário."
      ]
    },
    {
      "cell_type": "code",
      "execution_count": 8,
      "metadata": {
        "id": "LS3gBig41QyB"
      },
      "outputs": [
        {
          "name": "stdout",
          "output_type": "stream",
          "text": [
            "Sua senha sem os caractere especiais macaco123\n",
            "Sua senha é ruim.\n"
          ]
        }
      ],
      "source": [
        "import string\n",
        "\n",
        "def valida_senha(senha):\n",
        "\n",
        "    requisito_maiuscula = False\n",
        "    requisito_minuscula = False\n",
        "    requisito_numero = False\n",
        "    requisito_caracteres_especias = False\n",
        "    pontuacao = string.punctuation\n",
        "    minha_tabela = str.maketrans('', '', pontuacao)\n",
        "    senha = senha.translate(minha_tabela)\n",
        "\n",
        "    print(f\"Sua senha sem os caractere especiais {senha}\")\n",
        "\n",
        "    if len(senha) < 7:\n",
        "        return False\n",
        "\n",
        "    for caractere in senha:\n",
        "        if caractere.isupper():\n",
        "            requisito_maiuscula = True\n",
        "        elif caractere.islower():\n",
        "            requisito_minuscula = True\n",
        "        elif caractere.isdigit():\n",
        "            requisito_numero = True\n",
        "        \n",
        "\n",
        "    \n",
        "    if requisito_maiuscula and requisito_minuscula and requisito_numero:\n",
        "        return True\n",
        "    else:\n",
        "        return False\n",
        "\n",
        "\n",
        "senha = input(\"Digite a sua senha: \")\n",
        "if valida_senha(senha):\n",
        "    print(\"Sua senha é boa.\")\n",
        "else:\n",
        "    print(\"Sua senha é ruim.\")\n"
      ]
    },
    {
      "cell_type": "markdown",
      "metadata": {
        "id": "kTSNZ6RKibmf"
      },
      "source": [
        "**b)** Elabore um programa que solicite a digitação da senha. Caso se trate de uma senha válida, o programa deve exibir a mensagem “Senha validada”. Caso seja inválida, o processo de entrada deve se repetir até que uma senha válida seja informada."
      ]
    },
    {
      "cell_type": "code",
      "execution_count": null,
      "metadata": {
        "id": "3oedrWboiYY_"
      },
      "outputs": [],
      "source": []
    },
    {
      "cell_type": "markdown",
      "metadata": {
        "id": "my2vbFJ8imjo"
      },
      "source": [
        "##**Exercício 03 – Vogais e consoantes**\n",
        "\n",
        "Escreva um programa que peça ao usuário a entrada de uma *string* (uma frase, por exemplo) e exiba o número de vogais e consoantes presentes nela. Para tanto:\n",
        "\n",
        "**a)** Crie uma função `conta_vogais` que recebe como parâmetro uma *string* e retorna o número de vogais nela contida."
      ]
    },
    {
      "cell_type": "code",
      "execution_count": 14,
      "metadata": {
        "id": "bYt1iwPyilw2"
      },
      "outputs": [
        {
          "name": "stdout",
          "output_type": "stream",
          "text": [
            "Você tem 3 vogais\n"
          ]
        }
      ],
      "source": [
        "def conta_vogais(palavra):\n",
        "    vogais = 'aeiouAEIOU'\n",
        "    contador = 0\n",
        "\n",
        "    for letra in palavra:\n",
        "        if letra in vogais:\n",
        "            contador += 1\n",
        "    \n",
        "    print(f\"Você tem {contador} vogais\")\n",
        "\n",
        "\n",
        "palavra = input(\"Digite uma palavra: \")\n",
        "conta_vogais(palavra)"
      ]
    },
    {
      "cell_type": "markdown",
      "metadata": {
        "id": "4K02pSgw_BUA"
      },
      "source": [
        "**b)** Crie uma função `conta_consoantes` que recebe como parâmetro uma *string* e retorna o número de consoantes nela contida."
      ]
    },
    {
      "cell_type": "code",
      "execution_count": 15,
      "metadata": {
        "id": "cT9unCeIjOwY"
      },
      "outputs": [
        {
          "name": "stdout",
          "output_type": "stream",
          "text": [
            "Você tem 4 consoantes.\n"
          ]
        }
      ],
      "source": [
        "def conta_consoantes(palavra_dois):\n",
        "    consoantes = 'bcdfghjklmnpqrstvwxyzBCDFGHJKLMNPQRSTVWXYZ'\n",
        "    contador_dois = 0\n",
        "\n",
        "    for letra_dois in palavra_dois:\n",
        "        if letra_dois in consoantes:\n",
        "            contador_dois += 1\n",
        "    \n",
        "    print(f\"Você tem {contador_dois} consoantes.\")\n",
        "\n",
        "palavra_dois = input(\"Digite uma palavra: \")\n",
        "conta_consoantes(palavra_dois)\n",
        "    "
      ]
    },
    {
      "cell_type": "markdown",
      "metadata": {
        "id": "Cq70n8m7_EEo"
      },
      "source": [
        "**c)** Construa o programa que recebe uma *string* do usuário e, usando as funções dos itens anteriores, exibe o número de vogais e consoantes nela presentes."
      ]
    },
    {
      "cell_type": "code",
      "execution_count": 16,
      "metadata": {
        "id": "30jdsVYdjRsW"
      },
      "outputs": [
        {
          "name": "stdout",
          "output_type": "stream",
          "text": [
            "Você tem 3 vogais\n",
            "Você tem 4 consoantes.\n"
          ]
        }
      ],
      "source": [
        "def conta_vogais(palavra):\n",
        "    vogais = 'aeiouAEIOU'\n",
        "    contador = 0\n",
        "\n",
        "    for letra in palavra:\n",
        "        if letra in vogais:\n",
        "            contador += 1\n",
        "    \n",
        "    print(f\"Você tem {contador} vogais\")\n",
        "\n",
        "def conta_consoantes(palavra_dois):\n",
        "    consoantes = 'bcdfghjklmnpqrstvwxyzBCDFGHJKLMNPQRSTVWXYZ'\n",
        "    contador_dois = 0\n",
        "\n",
        "    for letra_dois in palavra_dois:\n",
        "        if letra_dois in consoantes:\n",
        "            contador_dois += 1\n",
        "    \n",
        "    print(f\"Você tem {contador_dois} consoantes.\")\n",
        "\n",
        "\n",
        "palavra = input(\"Digite uma palavra: \")\n",
        "conta_vogais(palavra)\n",
        "conta_consoantes(palavra)"
      ]
    },
    {
      "cell_type": "markdown",
      "metadata": {
        "id": "TZW5nhe9jTlx"
      },
      "source": [
        "##**Exercício 04 – Pig Latin (“Latim porco”, em uma tradução livre)**\n",
        "\n",
        "Escreva um programa que solicita uma frase como entrada e a traduza para o “Latim porco”. Em uma de suas versões, a tradução de uma palavra para o “Latim porco” se dá em duas etapas:\n",
        "\n",
        "* Remoção da primeira letra da palavra e inserção dessa ao final;\n",
        "* Concatenar “ay” à palavra.\n",
        "\n",
        "Veja um exemplo:\n",
        "\n",
        "**Frase original:** Eu quero ver o oco (Refrão de “Eu quero ver o oco”, sucesso dos Raimundos em 1995)\n",
        "\n",
        "**Frase em \"latim porco\":** ueay ueroqay ervay oay cooay\n",
        "\n",
        "Para a criação do programa, modularize seu código:\n",
        "\n",
        "**a)** Crie uma função `pig_latin` que recebe como parâmetro uma frase e retorna sua tradução para o “latim porco”."
      ]
    },
    {
      "cell_type": "code",
      "execution_count": null,
      "metadata": {
        "id": "_wqRzUd9kBnB"
      },
      "outputs": [],
      "source": []
    },
    {
      "cell_type": "markdown",
      "metadata": {
        "id": "redFuheZ__v6"
      },
      "source": [
        "**b)** Elabore um programa que solicite a digitação de uma frase e exiba a versão traduzida em “latim porco”."
      ]
    },
    {
      "cell_type": "code",
      "execution_count": null,
      "metadata": {
        "id": "Zm_zjRKakIKW"
      },
      "outputs": [],
      "source": [
        "# Programa\n"
      ]
    },
    {
      "cell_type": "markdown",
      "metadata": {
        "id": "Nwdo6Moy5MLa"
      },
      "source": [
        "##**Exercício 05 - Tratando datas**\n",
        "\n",
        "Leia uma cadeia de caracteres no formato “DD/MM/AAAA” e copie o dia, mês e ano para 3 variaveis inteiras. Antes disso:\n",
        "\n",
        "**a)** Construa uma função `verifica_barras` que recebe a data fornecida e checa se as barras estão posicionadas corretamente. Em caso de de inconsistência a função deve retornar `False`, caso contrário, `True`."
      ]
    },
    {
      "cell_type": "code",
      "execution_count": null,
      "metadata": {
        "id": "LNh6w8nU6n2h"
      },
      "outputs": [],
      "source": [
        "# Função verifica_barras\n",
        "\n",
        "# Testes\n",
        "print(verifica_barras(\"30/04/2025\"))\n",
        "print(verifica_barras(\"3004/2025\"))\n",
        "print(verifica_barras(\"30-04-2025\"))\n",
        "print(verifica_barras(\"3/04/2025\"))"
      ]
    },
    {
      "cell_type": "markdown",
      "metadata": {
        "id": "sfMH2hce6obA"
      },
      "source": [
        "**b)** Construa a função `verifica_campos` que recebe a data fornecida, separa os campos DD, MM e AAAA e verifica se são numéricos. Em caso afirmativo, a função deve retornar os campos no formato inteiro; caso contrário, deve retornar `False`."
      ]
    },
    {
      "cell_type": "code",
      "execution_count": null,
      "metadata": {
        "id": "K9vxoS8h72Cw"
      },
      "outputs": [],
      "source": [
        "# Função verifica_campos\n",
        "\n",
        "# Testes\n",
        "print(verifica_campos(\"30/04/2025\"))\n",
        "print(verifica_campos(\"30/ab/2025\"))\n",
        "print(verifica_campos(\"3a/04/2025\"))\n",
        "print(verifica_campos(\"30/04\"))"
      ]
    },
    {
      "cell_type": "markdown",
      "metadata": {
        "id": "7ozDAJJQ72bQ"
      },
      "source": [
        "**c)** Elabore um programa que peça ao usuário que digite uma data no formato DD/MM/AAAA e, usando as funções dos itens anteriores, armazene, se possível, os campos DD, MM e AAAA em variáveis inteiras. Se houver algum tipo de incoerência na entrada fornecida, o programa deve pedir nova digitação."
      ]
    },
    {
      "cell_type": "code",
      "execution_count": null,
      "metadata": {
        "id": "dfEJduA28ScJ"
      },
      "outputs": [],
      "source": [
        "# Programa\n"
      ]
    },
    {
      "cell_type": "markdown",
      "metadata": {
        "id": "kBTRt8fl8S0x"
      },
      "source": [
        "##**Desafio - Tratameto de strings**##\n",
        "\n",
        "Elabore um programa modular que encontre o conjunto de 5 dígitos consecutivos na sequência abaixo que gere o maior produto."
      ]
    },
    {
      "cell_type": "code",
      "execution_count": null,
      "metadata": {
        "id": "sWauEdy38yzB"
      },
      "outputs": [],
      "source": [
        "# String para análise\n",
        "sequencia = '''\n",
        "73167176531330624919225119674426574742355349194934\n",
        "96983520312774506326239578318016984801869478851843\n",
        "85861560789112949495459501737958331952853208805511\n",
        "12540698747158523863050715693290963295227443043557\n",
        "66896648950445244523161731856403098711121722383113\n",
        "62229893423380308135336276614282806444486645238749\n",
        "30358907296290491560440772390713810515859307960866\n",
        "70172427121883998797908792274921901699720888093776\n",
        "65727333001053367881220235421809751254540594752243\n",
        "52584907711670556013604839586446706324415722155397\n",
        "53697817977846174064955149290862569321978468622482\n",
        "83972241375657056057490261407972968652414535100474\n",
        "82166370484403199890008895243450658541227588666881\n",
        "16427171479924442928230863465674813919123162824586\n",
        "17866458359124566529476545682848912883142607690042\n",
        "24219022671055626321111109370544217506941658960408\n",
        "07198403850962455444362981230987879927244284909188\n",
        "84580156166097919133875499200524063689912560717606\n",
        "05886116467109405077541002256983155200055935729725\n",
        "71636269561882670428252483600823257530420752963450\n",
        "'''"
      ]
    },
    {
      "cell_type": "code",
      "execution_count": null,
      "metadata": {
        "id": "-5akT-jN-dr4"
      },
      "outputs": [],
      "source": []
    }
  ],
  "metadata": {
    "colab": {
      "provenance": []
    },
    "kernelspec": {
      "display_name": "Python 3",
      "language": "python",
      "name": "python3"
    },
    "language_info": {
      "codemirror_mode": {
        "name": "ipython",
        "version": 3
      },
      "file_extension": ".py",
      "mimetype": "text/x-python",
      "name": "python",
      "nbconvert_exporter": "python",
      "pygments_lexer": "ipython3",
      "version": "3.11.9"
    },
    "vscode": {
      "interpreter": {
        "hash": "c261aea317cc0286b3b3261fbba9abdec21eaa57589985bb7a274bf54d6cc0a7"
      }
    }
  },
  "nbformat": 4,
  "nbformat_minor": 0
}
